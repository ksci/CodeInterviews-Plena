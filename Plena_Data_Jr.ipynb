{
 "cells": [
  {
   "cell_type": "code",
   "execution_count": 1,
   "metadata": {},
   "outputs": [],
   "source": [
    "def find_first_non_repeated(word):\n",
    "    \"\"\"\n",
    "    Case is not considered in whether a letter is repeated\n",
    "    Repetition is defined as any letter that occurs two or more times in sequence\n",
    "    Return the first non-repeated letter in a string.\"\"\"\n",
    "    if len(word) > 0:\n",
    "        first = word[0].lower()\n",
    "        duplicate = False\n",
    "        for i in range(1,len(word)):\n",
    "            if first == word[i].lower():\n",
    "                duplicate = True\n",
    "                continue\n",
    "            else:\n",
    "                if duplicate:\n",
    "                    first = word[i].lower()\n",
    "                    duplicate = False\n",
    "                else:\n",
    "                    return first\n",
    "        return first\n",
    "    else:\n",
    "        return ''\n",
    "\n",
    "def remove_duplicates(word):\n",
    "    \"\"\"\n",
    "    remove repeated letters from a word\"\"\"\n",
    "    letters = []\n",
    "    for i in word:\n",
    "        if i.lower() in letters:\n",
    "            continue\n",
    "        else:\n",
    "            letters.append(i.lower())           \n",
    "    return letters\n",
    "        \n",
    "def get_letters(word):\n",
    "    \"\"\"\n",
    "    Takes a word as input and returns a dictionary containing a key of the lowercase letter\n",
    "    and a value containing an ordered list of all occurances of that letter\"\"\"\n",
    "    letter_dict = {}\n",
    "    for i in word:\n",
    "        if i.lower() not in letter_dict:\n",
    "            letter_dict[i.lower()] = list(i)\n",
    "        else:\n",
    "            letter_dict[i.lower()].append(i)\n",
    "    return letter_dict\n",
    "\n",
    "def create_letter_order(letters,letter_dict):\n",
    "    \"\"\"\n",
    "    Rearrange the word so that it appears in order of appearance and frequency\"\"\"   \n",
    "    new_word = [letter_dict[l] for l in letters]\n",
    "    counts = [len(i) for i in new_word]\n",
    "    indices = sorted(range(len(counts)), key=lambda k: counts[k])\n",
    "    new_word = [new_word[i] for i in indices]\n",
    "    new_word = ''.join([i for j in new_word for i in j])\n",
    "    \n",
    "    return new_word"
   ]
  },
  {
   "cell_type": "code",
   "execution_count": 2,
   "metadata": {},
   "outputs": [],
   "source": [
    "def main():\n",
    "    \n",
    "    word = input(\"Enter Word:\")\n",
    "    print(find_first_non_repeated(word))\n",
    "    print(create_letter_order(remove_duplicates(word), get_letters(word)))\n",
    "\n",
    "def main_input(word):\n",
    "    print(find_first_non_repeated(word))\n",
    "    print(create_letter_order(remove_duplicates(word), get_letters(word)))"
   ]
  },
  {
   "cell_type": "markdown",
   "metadata": {},
   "source": [
    "# Main Program\n"
   ]
  },
  {
   "cell_type": "code",
   "execution_count": 3,
   "metadata": {},
   "outputs": [
    {
     "name": "stdin",
     "output_type": "stream",
     "text": [
      "Enter Word: Bubble\n"
     ]
    },
    {
     "name": "stdout",
     "output_type": "stream",
     "text": [
      "b\n",
      "uleBbb\n"
     ]
    }
   ],
   "source": [
    "main()"
   ]
  },
  {
   "cell_type": "markdown",
   "metadata": {},
   "source": [
    "# Test Methods"
   ]
  },
  {
   "cell_type": "code",
   "execution_count": 8,
   "metadata": {},
   "outputs": [],
   "source": [
    "word = 'aAbcccddddeeeccda'"
   ]
  },
  {
   "cell_type": "code",
   "execution_count": 9,
   "metadata": {},
   "outputs": [
    {
     "data": {
      "text/plain": [
       "{'a': ['a', 'A', 'a'],\n",
       " 'b': ['b'],\n",
       " 'c': ['c', 'c', 'c', 'c', 'c'],\n",
       " 'd': ['d', 'd', 'd', 'd', 'd'],\n",
       " 'e': ['e', 'e', 'e']}"
      ]
     },
     "execution_count": 9,
     "metadata": {},
     "output_type": "execute_result"
    }
   ],
   "source": [
    "get_letters(word)"
   ]
  },
  {
   "cell_type": "code",
   "execution_count": 10,
   "metadata": {},
   "outputs": [
    {
     "data": {
      "text/plain": [
       "['a', 'b', 'c', 'd', 'e']"
      ]
     },
     "execution_count": 10,
     "metadata": {},
     "output_type": "execute_result"
    }
   ],
   "source": [
    "remove_duplicates(word)"
   ]
  },
  {
   "cell_type": "code",
   "execution_count": 13,
   "metadata": {},
   "outputs": [
    {
     "data": {
      "text/plain": [
       "'baAaeeecccccddddd'"
      ]
     },
     "execution_count": 13,
     "metadata": {},
     "output_type": "execute_result"
    }
   ],
   "source": [
    "create_letter_order(remove_duplicates(word), get_letters(word))"
   ]
  },
  {
   "cell_type": "code",
   "execution_count": 14,
   "metadata": {},
   "outputs": [],
   "source": [
    "words = ['Bubble', 'Tttteeest', 't', '', 'aAbcccddddeeeccda']"
   ]
  },
  {
   "cell_type": "code",
   "execution_count": 15,
   "metadata": {},
   "outputs": [
    {
     "name": "stdout",
     "output_type": "stream",
     "text": [
      "b\n",
      "uleBbb\n",
      "s\n",
      "seeeTtttt\n",
      "t\n",
      "t\n",
      "\n",
      "\n",
      "b\n",
      "baAaeeecccccddddd\n"
     ]
    }
   ],
   "source": [
    "for word in words:\n",
    "    main_input(word)"
   ]
  }
 ],
 "metadata": {
  "kernelspec": {
   "display_name": "Python 3",
   "language": "python",
   "name": "python3"
  },
  "language_info": {
   "codemirror_mode": {
    "name": "ipython",
    "version": 3
   },
   "file_extension": ".py",
   "mimetype": "text/x-python",
   "name": "python",
   "nbconvert_exporter": "python",
   "pygments_lexer": "ipython3",
   "version": "3.7.4"
  }
 },
 "nbformat": 4,
 "nbformat_minor": 4
}
